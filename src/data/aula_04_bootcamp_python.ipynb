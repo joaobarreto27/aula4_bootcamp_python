{
 "cells": [
  {
   "cell_type": "markdown",
   "id": "5bb36cd0",
   "metadata": {},
   "source": [
    "### Type Hint\n",
    "O uso de Type Hint ajuda a tornar o código mais legível e seguro, especificando o tipo de dados esperados por funções e variáveis."
   ]
  },
  {
   "cell_type": "markdown",
   "id": "bb0dc26d",
   "metadata": {},
   "source": [
    "#### Sem Type Hint"
   ]
  },
  {
   "cell_type": "code",
   "execution_count": 3,
   "id": "86f79cc9",
   "metadata": {},
   "outputs": [],
   "source": [
    "idade = 30\n",
    "altura = 1.75\n",
    "nome = \"Alice\"\n",
    "is_estudante = True"
   ]
  },
  {
   "cell_type": "markdown",
   "id": "93881a00",
   "metadata": {},
   "source": [
    "#### Com Type Hint"
   ]
  },
  {
   "cell_type": "code",
   "execution_count": 4,
   "id": "d6eb08b5",
   "metadata": {},
   "outputs": [],
   "source": [
    "idade: int = 30\n",
    "altura: float = 1.75\n",
    "nome: str = \"Alice\"\n",
    "is_estudante: bool = True"
   ]
  },
  {
   "cell_type": "markdown",
   "id": "169f5200",
   "metadata": {},
   "source": [
    "### Listas"
   ]
  },
  {
   "cell_type": "markdown",
   "id": "5c5b3509",
   "metadata": {},
   "source": [
    "Documentação [Listas](https://docs.python.org/3/tutorial/datastructures.html)"
   ]
  },
  {
   "cell_type": "markdown",
   "id": "470630f1",
   "metadata": {},
   "source": [
    "#### Lista de numeros"
   ]
  },
  {
   "cell_type": "code",
   "execution_count": 12,
   "id": "ea71c105",
   "metadata": {},
   "outputs": [
    {
     "name": "stdout",
     "output_type": "stream",
     "text": [
      "[0, 1, 2, 3, 4, 5, 6, 7, 8, 9, 10]\n"
     ]
    }
   ],
   "source": [
    "numeros = list(range(0,11))\n",
    "print(numeros)"
   ]
  },
  {
   "cell_type": "markdown",
   "id": "e02295ff",
   "metadata": {},
   "source": [
    "#### Lista de Texto"
   ]
  },
  {
   "cell_type": "code",
   "execution_count": 13,
   "id": "8a083b5c",
   "metadata": {},
   "outputs": [
    {
     "name": "stdout",
     "output_type": "stream",
     "text": [
      "['Python', 'Java', 'JavaScript', 'Ruby']\n"
     ]
    }
   ],
   "source": [
    "linguagens = [\"Python\", \"Java\", \"C++\", \"JavaScript\"]\n",
    "linguagens.remove(\"C++\")\n",
    "linguagens.append(\"Ruby\")\n",
    "print(linguagens)"
   ]
  },
  {
   "cell_type": "markdown",
   "id": "d7b87966",
   "metadata": {},
   "source": [
    "### Dicionários\n",
    "\n",
    "Documentação [Dict](https://docs.python.org/3/tutorial/datastructures.html)"
   ]
  },
  {
   "cell_type": "code",
   "execution_count": 28,
   "id": "7a2affcb",
   "metadata": {},
   "outputs": [],
   "source": [
    "produto_1: dict = {\n",
    "    \"nome\": \"Sapato\",\n",
    "    \"quantidade\": 39,\n",
    "    \"preco\": 10.38,\n",
    "    \"disponibilidade\": True    \n",
    "}"
   ]
  },
  {
   "cell_type": "code",
   "execution_count": 29,
   "id": "3ae655e4",
   "metadata": {},
   "outputs": [],
   "source": [
    "produto_2: dict = {\n",
    "    \"nome\": \"Televisão\",\n",
    "    \"quantidade\": 10,\n",
    "    \"preco\": 70.38,\n",
    "    \"disponibilidade\": False    \n",
    "}"
   ]
  },
  {
   "cell_type": "code",
   "execution_count": 30,
   "id": "86fbe480",
   "metadata": {},
   "outputs": [
    {
     "name": "stdout",
     "output_type": "stream",
     "text": [
      "[{'nome': 'Sapato', 'quantidade': 39, 'preco': 10.38, 'disponibilidade': True}, {'nome': 'Televisão', 'quantidade': 10, 'preco': 70.38, 'disponibilidade': False}]\n"
     ]
    }
   ],
   "source": [
    "carrinho: list = []\n",
    "carrinho.append(produto_1)\n",
    "carrinho.append(produto_2)\n",
    "print(carrinho)"
   ]
  },
  {
   "cell_type": "code",
   "execution_count": 33,
   "id": "444e8da1",
   "metadata": {},
   "outputs": [
    {
     "name": "stdout",
     "output_type": "stream",
     "text": [
      "[{\"nome\": \"Sapato\", \"quantidade\": 39, \"preco\": 10.38, \"disponibilidade\": true}, {\"nome\": \"Televis\\u00e3o\", \"quantidade\": 10, \"preco\": 70.38, \"disponibilidade\": false}]\n"
     ]
    }
   ],
   "source": [
    "# Transforma um dicionario em json\n",
    "\n",
    "import json\n",
    "\n",
    "carrinho_json: dict = json.dumps(carrinho)\n",
    "print(carrinho_json)"
   ]
  },
  {
   "cell_type": "code",
   "execution_count": 36,
   "id": "7c8d9d1f",
   "metadata": {},
   "outputs": [],
   "source": [
    "# Usando Typing\n",
    "\n",
    "from typing import Dict, Any\n",
    "import json\n",
    "\n",
    "livro: Dict[str, Any] = {\n",
    "    \"Titulo\" : \"Game of Thromes\",\n",
    "    \"Autor\" : \"Estigiário\",\n",
    "    \"Ano\": 2005\n",
    "}"
   ]
  },
  {
   "cell_type": "code",
   "execution_count": 41,
   "id": "f258e0ea",
   "metadata": {},
   "outputs": [],
   "source": [
    "# Dicionario de Dicionarios\n",
    "\n",
    "livro_1: dict = {\n",
    "    \"Titulo\" : \"Game of Thromes\",\n",
    "    \"Autor\" : \"Estigiário\",\n",
    "    \"Ano\": 2005\n",
    "}\n",
    "\n",
    "livro_2: dict = {\n",
    "    \"Titulo\" : \"Game of Thromes 2\",\n",
    "    \"Autor\" : \"Estigiário\",\n",
    "    \"Ano\": 2007\n",
    "}\n",
    "\n",
    "livro_de_livros_usando_dict: dict = {\n",
    "    'livro_01': {\n",
    "        \"Titulo\" : \"Game of Thromes\",\n",
    "    \"Autor\" : \"Estigiário\",\n",
    "    \"Ano\": 2005\n",
    "    },\n",
    "    \"livro_02\" : {\n",
    "    \"Titulo\" : \"Game of Thromes 2\",\n",
    "    \"Autor\" : \"Estigiário\",\n",
    "    \"Ano\": 2007}\n",
    "}"
   ]
  },
  {
   "cell_type": "code",
   "execution_count": 40,
   "id": "33b56f66",
   "metadata": {},
   "outputs": [
    {
     "name": "stdout",
     "output_type": "stream",
     "text": [
      "[{'Titulo': 'Game of Thromes', 'Autor': 'Estigiário', 'Ano': 2005}, {'Titulo': 'Game of Thromes 2', 'Autor': 'Estigiário', 'Ano': 2007}]\n"
     ]
    }
   ],
   "source": [
    "lista_de_livros: list = []\n",
    "lista_de_livros.append(livro_1)\n",
    "lista_de_livros.append(livro_2)\n",
    "print(lista_de_livros)"
   ]
  },
  {
   "cell_type": "code",
   "execution_count": 1,
   "id": "d4ca5dfd",
   "metadata": {},
   "outputs": [
    {
     "ename": "NameError",
     "evalue": "name 'livro_de_livros_usando_dict' is not defined",
     "output_type": "error",
     "traceback": [
      "\u001b[1;31m---------------------------------------------------------------------------\u001b[0m",
      "\u001b[1;31mNameError\u001b[0m                                 Traceback (most recent call last)",
      "Cell \u001b[1;32mIn[1], line 1\u001b[0m\n\u001b[1;32m----> 1\u001b[0m \u001b[38;5;28mprint\u001b[39m(\u001b[43mlivro_de_livros_usando_dict\u001b[49m[\u001b[38;5;124m\"\u001b[39m\u001b[38;5;124mlivro_01\u001b[39m\u001b[38;5;124m\"\u001b[39m])\n",
      "\u001b[1;31mNameError\u001b[0m: name 'livro_de_livros_usando_dict' is not defined"
     ]
    }
   ],
   "source": [
    "print(livro_de_livros_usando_dict[\"livro_01\"])"
   ]
  },
  {
   "cell_type": "markdown",
   "id": "e08fa525",
   "metadata": {},
   "source": [
    "### Lendo arquivos\n",
    "\n",
    "- Documentação - [Funções](https://docs.python.org/3/library/functions.html)\n",
    "- Documentação - [CSV](https://docs.python.org/3/library/csv.html)"
   ]
  },
  {
   "cell_type": "code",
   "execution_count": 6,
   "id": "a572b7fe",
   "metadata": {},
   "outputs": [
    {
     "name": "stdout",
     "output_type": "stream",
     "text": [
      "[{'nome': 'Alice', 'idade': '30', 'cidade': 'Nova York'}, {'nome': 'Bob', 'idade': '25', 'cidade': 'Los Angeles'}, {'nome': 'Carlos', 'idade': '28', 'cidade': 'São Paulo'}]\n"
     ]
    }
   ],
   "source": [
    "# Lendo Arquivo CSV\n",
    "\n",
    "import csv\n",
    "\n",
    "path: str = \"../utils/exemplo.csv\"\n",
    "\n",
    "arquivo_csv: list = []\n",
    "\n",
    "with open(file= path, mode=\"r\", encoding = \"utf-8\") as arquivo:\n",
    "    leitor_csv = csv.DictReader(arquivo)\n",
    "\n",
    "    for linha in leitor_csv:\n",
    "        arquivo_csv.append(linha)\n",
    "\n",
    "print(arquivo_csv)"
   ]
  },
  {
   "cell_type": "markdown",
   "id": "b7206360",
   "metadata": {},
   "source": [
    "### Funções"
   ]
  },
  {
   "cell_type": "code",
   "execution_count": 11,
   "id": "e8829a51",
   "metadata": {},
   "outputs": [],
   "source": [
    "def ordernar_lista_numeros(numeros:list) -> list:\n",
    "    lista = numeros.copy()\n",
    "\n",
    "    for i in range(len(lista)):\n",
    "        for j in range(i + 1, len(lista)):\n",
    "            if lista[i] > lista[j]:\n",
    "                lista[i], lista[j] = lista[j], lista[i]\n",
    "    \n",
    "    return lista"
   ]
  },
  {
   "cell_type": "code",
   "execution_count": 12,
   "id": "30cb883c",
   "metadata": {},
   "outputs": [
    {
     "name": "stdout",
     "output_type": "stream",
     "text": [
      "[11, 12, 22, 25, 34, 64, 90]\n"
     ]
    }
   ],
   "source": [
    "lista = [64, 34, 25, 12, 22, 11, 90]\n",
    "\n",
    "nova_lista = ordernar_lista_numeros(lista)\n",
    "print(nova_lista)"
   ]
  },
  {
   "cell_type": "code",
   "execution_count": 16,
   "id": "d2133323",
   "metadata": {},
   "outputs": [
    {
     "name": "stdout",
     "output_type": "stream",
     "text": [
      "[11, 12, 22, 25, 34, 64, 90]\n"
     ]
    }
   ],
   "source": [
    "# Ordenando Valores\n",
    "\n",
    "lista.sort()\n",
    "print(lista)"
   ]
  }
 ],
 "metadata": {
  "kernelspec": {
   "display_name": "Python 3",
   "language": "python",
   "name": "python3"
  },
  "language_info": {
   "codemirror_mode": {
    "name": "ipython",
    "version": 3
   },
   "file_extension": ".py",
   "mimetype": "text/x-python",
   "name": "python",
   "nbconvert_exporter": "python",
   "pygments_lexer": "ipython3",
   "version": "3.11.9"
  }
 },
 "nbformat": 4,
 "nbformat_minor": 5
}
