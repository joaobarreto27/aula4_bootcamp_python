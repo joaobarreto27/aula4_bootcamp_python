{
 "cells": [
  {
   "cell_type": "markdown",
   "id": "a1aaf57e",
   "metadata": {},
   "source": [
    "### Exercícios de Listas e Dicionários"
   ]
  },
  {
   "cell_type": "markdown",
   "id": "b56ed971",
   "metadata": {},
   "source": [
    "#### 1. Crie uma lista com os números de 1 a 10 e use um loop para imprimir cada número elevado ao quadrado."
   ]
  },
  {
   "cell_type": "code",
   "execution_count": 1,
   "id": "0ec90e8c",
   "metadata": {},
   "outputs": [
    {
     "name": "stdout",
     "output_type": "stream",
     "text": [
      "1\n",
      "4\n",
      "9\n",
      "16\n",
      "25\n",
      "36\n",
      "49\n",
      "64\n",
      "81\n",
      "100\n"
     ]
    }
   ],
   "source": [
    "lista_numeros = [1,2,3,4,5,6,7,8,9,10]\n",
    "\n",
    "for numero in lista_numeros:\n",
    "    numero_ao_quadrado = numero ** 2\n",
    "    print(numero_ao_quadrado)"
   ]
  },
  {
   "cell_type": "markdown",
   "id": "3e3f3d65",
   "metadata": {},
   "source": [
    "### 2. Dada a lista [\"Python\", \"Java\", \"C++\", \"JavaScript\"], remova o item \"C++\" e adicione \"Ruby\"."
   ]
  },
  {
   "cell_type": "code",
   "execution_count": 7,
   "id": "5b780268",
   "metadata": {},
   "outputs": [],
   "source": [
    "lista = [\"Python\", \"Java\", \"C++\", \"JavaScript\"]\n",
    "lista = lista.remove(\"C++\")"
   ]
  },
  {
   "cell_type": "code",
   "execution_count": 14,
   "id": "76d218af",
   "metadata": {},
   "outputs": [
    {
     "ename": "TypeError",
     "evalue": "can only join an iterable",
     "output_type": "error",
     "traceback": [
      "\u001b[1;31m---------------------------------------------------------------------------\u001b[0m",
      "\u001b[1;31mTypeError\u001b[0m                                 Traceback (most recent call last)",
      "Cell \u001b[1;32mIn[14], line 1\u001b[0m\n\u001b[1;32m----> 1\u001b[0m lista_str \u001b[38;5;241m=\u001b[39m \u001b[38;5;124;43m\"\u001b[39;49m\u001b[38;5;124;43m \u001b[39;49m\u001b[38;5;124;43m\"\u001b[39;49m\u001b[38;5;241;43m.\u001b[39;49m\u001b[43mjoin\u001b[49m\u001b[43m(\u001b[49m\u001b[43mlista\u001b[49m\u001b[43m)\u001b[49m\n\u001b[0;32m      2\u001b[0m \u001b[38;5;28mprint\u001b[39m(lista)\n",
      "\u001b[1;31mTypeError\u001b[0m: can only join an iterable"
     ]
    }
   ],
   "source": [
    "lista_str = \" \".join(lista)\n",
    "print(lista)"
   ]
  },
  {
   "cell_type": "markdown",
   "id": "c51bbf20",
   "metadata": {},
   "source": [
    "### 3. Crie um dicionário para armazenar informações de um livro, incluindo título, autor e ano de publicação. Imprima cada informação.\n"
   ]
  },
  {
   "cell_type": "code",
   "execution_count": 15,
   "id": "3bc82522",
   "metadata": {},
   "outputs": [],
   "source": [
    "dicionario = {\n",
    "    \"nome\": \"João é Top\",\n",
    "    \"autor\": \"João Vitor Barreto da Silva\",\n",
    "    \"ano_de_publicacao\": 2025\n",
    "}"
   ]
  },
  {
   "cell_type": "code",
   "execution_count": 18,
   "id": "534ffcc1",
   "metadata": {},
   "outputs": [
    {
     "name": "stdout",
     "output_type": "stream",
     "text": [
      "João é Top\n",
      "João Vitor Barreto da Silva\n",
      "2025\n"
     ]
    }
   ],
   "source": [
    "print(dicionario['nome'])\n",
    "print(dicionario['autor'])\n",
    "print(dicionario['ano_de_publicacao'])"
   ]
  },
  {
   "cell_type": "markdown",
   "id": "a1b6dc15",
   "metadata": {},
   "source": [
    "#### 4. Escreva um programa que conta o número de ocorrências de cada caractere em uma string usando um dicionário.\n"
   ]
  },
  {
   "cell_type": "code",
   "execution_count": 31,
   "id": "933544e7",
   "metadata": {},
   "outputs": [],
   "source": [
    "def conta_caracteres(palavra: str) -> dict:\n",
    "    contagem = {}\n",
    "    for caractere in palavra:\n",
    "        contagem[caractere] = contagem.get(caractere, 0)+1\n",
    "    return contagem"
   ]
  },
  {
   "cell_type": "code",
   "execution_count": 33,
   "id": "5561a130",
   "metadata": {},
   "outputs": [
    {
     "data": {
      "text/plain": [
       "{'J': 1,\n",
       " 'o': 4,\n",
       " 'ã': 1,\n",
       " ' ': 4,\n",
       " 'V': 1,\n",
       " 'i': 2,\n",
       " 't': 2,\n",
       " 'r': 3,\n",
       " 'B': 1,\n",
       " 'a': 3,\n",
       " 'e': 1,\n",
       " 'd': 1,\n",
       " 'S': 1,\n",
       " 'l': 1,\n",
       " 'v': 1}"
      ]
     },
     "execution_count": 33,
     "metadata": {},
     "output_type": "execute_result"
    }
   ],
   "source": [
    "palavra = \"João Vitor Barreto da Silva\"\n",
    "conta_caracteres(palavra=palavra)"
   ]
  },
  {
   "cell_type": "markdown",
   "id": "b4898102",
   "metadata": {},
   "source": [
    "#### 5. Dada a lista [\"maçã\", \"banana\", \"cereja\"] e o dicionário {\"maçã\": 0.45, \"banana\": 0.30, \"cereja\": 0.65}, calcule o preço total da lista de compras."
   ]
  },
  {
   "cell_type": "code",
   "execution_count": 39,
   "id": "a671065f",
   "metadata": {},
   "outputs": [],
   "source": [
    "frutas = {\"maçã\": 0.45, \"banana\": 0.30, \"cereja\": 0.65}"
   ]
  },
  {
   "cell_type": "code",
   "execution_count": 40,
   "id": "fbcedb12",
   "metadata": {},
   "outputs": [
    {
     "data": {
      "text/plain": [
       "1.4"
      ]
     },
     "execution_count": 40,
     "metadata": {},
     "output_type": "execute_result"
    }
   ],
   "source": [
    "total_frutas = sum(frutas.values())\n",
    "total_frutas"
   ]
  },
  {
   "cell_type": "markdown",
   "id": "8cc8714b",
   "metadata": {},
   "source": [
    "### Eliminação de Duplicatas"
   ]
  },
  {
   "cell_type": "markdown",
   "id": "f86794f4",
   "metadata": {},
   "source": [
    "#### 6. Dada uma lista de emails, remover todos os duplicados."
   ]
  },
  {
   "cell_type": "code",
   "execution_count": 44,
   "id": "46cb37df",
   "metadata": {},
   "outputs": [
    {
     "data": {
      "text/plain": [
       "['jv.barreto@outlook.com.br', 'joao.vitor@gmail.com']"
      ]
     },
     "execution_count": 44,
     "metadata": {},
     "output_type": "execute_result"
    }
   ],
   "source": [
    "lista_emails = [\n",
    "    'joao.vitor@gmail.com',\n",
    "    'joao.vitor@gmail.com', \n",
    "    'jv.barreto@outlook.com.br']\n",
    "\n",
    "lista_emails_unico = list(set(lista_emails))\n",
    "lista_emails_unico"
   ]
  },
  {
   "cell_type": "markdown",
   "id": "af18845d",
   "metadata": {},
   "source": [
    "### Filtragem de Dados\n"
   ]
  },
  {
   "cell_type": "markdown",
   "id": "2b5ff3ad",
   "metadata": {},
   "source": [
    "### 7. Dada uma lista de idades, filtrar apenas aquelas que são maiores ou iguais a 18."
   ]
  },
  {
   "cell_type": "code",
   "execution_count": 46,
   "id": "99299c74",
   "metadata": {},
   "outputs": [
    {
     "name": "stdout",
     "output_type": "stream",
     "text": [
      "[19, 18, 89, 51, 19, 28, 35, 49, 36, 24, 28, 36, 27]\n"
     ]
    }
   ],
   "source": [
    "lista_idades = [15,19,11,12,14,8,6,7,8,9,18,89,51,19,17,28,35,49,36,24,28,36,27]\n",
    "\n",
    "lista_maioridade = []\n",
    "\n",
    "for idade in lista_idades:\n",
    "    if idade >= 18:\n",
    "        lista_maioridade.append(idade)\n",
    "\n",
    "print(lista_maioridade)"
   ]
  },
  {
   "cell_type": "markdown",
   "id": "1d6dbd1e",
   "metadata": {},
   "source": [
    "### Ordenação Personalizada"
   ]
  },
  {
   "cell_type": "markdown",
   "id": "94c3c608",
   "metadata": {},
   "source": [
    "#### 8. Dada uma lista de dicionários representando pessoas, ordená-las pelo nome.\n"
   ]
  },
  {
   "cell_type": "code",
   "execution_count": 51,
   "id": "2508c08c",
   "metadata": {},
   "outputs": [
    {
     "data": {
      "text/plain": [
       "[{'nome': 'Carol', 'idade': 20},\n",
       " {'nome': 'Bob', 'idade': 25},\n",
       " {'nome': 'Alice', 'idade': 30}]"
      ]
     },
     "execution_count": 51,
     "metadata": {},
     "output_type": "execute_result"
    }
   ],
   "source": [
    "def key_order(e):\n",
    "    return e['idade']\n",
    "\n",
    "pessoas = [\n",
    "    {\"nome\": \"Alice\", \"idade\": 30},\n",
    "    {\"nome\": \"Bob\", \"idade\": 25},\n",
    "    {\"nome\": \"Carol\", \"idade\": 20}\n",
    "]\n",
    "\n",
    "pessoas.sort(key=lambda pessoa: pessoa['idade'])\n",
    "pessoas"
   ]
  },
  {
   "cell_type": "markdown",
   "id": "f186405b",
   "metadata": {},
   "source": [
    "### Agregação de Dados"
   ]
  },
  {
   "cell_type": "markdown",
   "id": "04b8c16f",
   "metadata": {},
   "source": [
    "#### 9. Dado um conjunto de números, calcular a média."
   ]
  },
  {
   "cell_type": "code",
   "execution_count": 52,
   "id": "aa4b0ec2",
   "metadata": {},
   "outputs": [
    {
     "name": "stdout",
     "output_type": "stream",
     "text": [
      "4.666666666666667\n"
     ]
    }
   ],
   "source": [
    "lista_numeros = [1,9,8,5,2,3]\n",
    "\n",
    "media = sum(lista_numeros) / len(lista_numeros)\n",
    "print(media)"
   ]
  },
  {
   "cell_type": "markdown",
   "id": "ef0da363",
   "metadata": {},
   "source": [
    "### Divisão de Dados em Grupos"
   ]
  },
  {
   "cell_type": "markdown",
   "id": "3fa28296",
   "metadata": {},
   "source": [
    "#### 10. Dada uma lista de valores, dividir em duas listas: uma para valores pares e outra para ímpares.\n"
   ]
  },
  {
   "cell_type": "code",
   "execution_count": 53,
   "id": "9ba298e3",
   "metadata": {},
   "outputs": [
    {
     "name": "stdout",
     "output_type": "stream",
     "text": [
      "[2, 4, 6, 8, 10]\n",
      "[1, 3, 5, 7, 9]\n"
     ]
    }
   ],
   "source": [
    "numeros = [1,2,3,4,5,6,7,8,9,10]\n",
    "\n",
    "numeros_pares = []\n",
    "numeros_impares = []\n",
    "\n",
    "for numero in numeros:\n",
    "    if numero % 2 == 0:\n",
    "        numeros_pares.append(numero)\n",
    "    else:\n",
    "        numeros_impares.append(numero)\n",
    "\n",
    "print(numeros_pares)\n",
    "print(numeros_impares)"
   ]
  },
  {
   "cell_type": "markdown",
   "id": "bf2c1272",
   "metadata": {},
   "source": [
    "### Exercícios com Dicionários"
   ]
  },
  {
   "cell_type": "markdown",
   "id": "d4495359",
   "metadata": {},
   "source": [
    "#### 11. Dada uma lista de dicionários representando produtos, atualizar o preço de um produto específico."
   ]
  },
  {
   "cell_type": "code",
   "execution_count": 68,
   "id": "1d7adf98",
   "metadata": {},
   "outputs": [
    {
     "name": "stdout",
     "output_type": "stream",
     "text": [
      "[{'id': 1, 'nome': 'Teclado', 'preço': 120}, {'id': 2, 'nome': 'Mouse', 'preço': 80}, {'id': 3, 'nome': 'Monitor', 'preço': 300}]\n"
     ]
    }
   ],
   "source": [
    "produtos = [\n",
    "    {\"id\": 1, \"nome\": \"Teclado\", \"preço\": 100},\n",
    "    {\"id\": 2, \"nome\": \"Mouse\", \"preço\": 80},\n",
    "    {\"id\": 3, \"nome\": \"Monitor\", \"preço\": 300}\n",
    "]\n",
    "\n",
    "for produto in produtos:\n",
    "    if produto['nome'] == \"Teclado\":\n",
    "        produto[\"preço\"] = 120\n",
    "\n",
    "print(produtos)"
   ]
  },
  {
   "cell_type": "markdown",
   "id": "e89ef2ef",
   "metadata": {},
   "source": [
    "#### 12. Dados dois dicionários, junte em um único dicionário."
   ]
  },
  {
   "cell_type": "code",
   "execution_count": 70,
   "id": "b6c2d457",
   "metadata": {},
   "outputs": [
    {
     "name": "stdout",
     "output_type": "stream",
     "text": [
      "[{'a': 1, 'b': 2}, {'c': 3, 'd': 4}]\n"
     ]
    }
   ],
   "source": [
    "dicionarios = []\n",
    "dicionario1 = {\"a\": 1, \"b\": 2}\n",
    "dicionario2 = {\"c\": 3, \"d\": 4}\n",
    "\n",
    "dicionarios.append(dicionario1)\n",
    "dicionarios.append(dicionario2)\n",
    "print(dicionarios)"
   ]
  },
  {
   "cell_type": "code",
   "execution_count": 72,
   "id": "10458137",
   "metadata": {},
   "outputs": [
    {
     "name": "stdout",
     "output_type": "stream",
     "text": [
      "{'a': 1, 'b': 2, 'c': 3, 'd': 4}\n"
     ]
    }
   ],
   "source": [
    "dicionarios = {}\n",
    "dicionario1 = {\"a\": 1, \"b\": 2}\n",
    "dicionario2 = {\"c\": 3, \"d\": 4}\n",
    "\n",
    "dicionarios = dicionario1 | dicionario2\n",
    "print(dicionarios)"
   ]
  },
  {
   "cell_type": "code",
   "execution_count": 74,
   "id": "633cdee0",
   "metadata": {},
   "outputs": [],
   "source": [
    "dicionario1 = {\"a\": 1, \"b\": 2}\n",
    "dicionario2 = {\"c\": 3, \"d\": 4}\n",
    "\n",
    "dicionario_fundido = {**dicionario1, **dicionario2}"
   ]
  },
  {
   "cell_type": "markdown",
   "id": "3d79235d",
   "metadata": {},
   "source": [
    "#### 13. Dado um dicionário de estoque de produtos, filtrar aqueles com quantidade maior que 0.\n"
   ]
  },
  {
   "cell_type": "code",
   "execution_count": 103,
   "id": "598f3554",
   "metadata": {},
   "outputs": [
    {
     "name": "stdout",
     "output_type": "stream",
     "text": [
      "{'Teclado': 10, 'Monitor': 3}\n"
     ]
    }
   ],
   "source": [
    "estoque = {\"Teclado\": 10, \"Mouse\": 0, \"Monitor\": 3, \"CPU\": 0}\n",
    "\n",
    "estoque_positivo = {produto: quantidade for produto, quantidade in estoque.items() if quantidade > 0}\n",
    "print(estoque_positivo)"
   ]
  },
  {
   "cell_type": "code",
   "execution_count": 104,
   "id": "f18ba541",
   "metadata": {},
   "outputs": [
    {
     "data": {
      "text/plain": [
       "dict_values([10, 0, 3, 0])"
      ]
     },
     "execution_count": 104,
     "metadata": {},
     "output_type": "execute_result"
    }
   ],
   "source": [
    "estoque.values()"
   ]
  },
  {
   "cell_type": "markdown",
   "id": "015ac275",
   "metadata": {},
   "source": [
    "#### 14. Dado um dicionário, criar listas separadas para suas chaves e valores.\n"
   ]
  },
  {
   "cell_type": "code",
   "execution_count": 110,
   "id": "3dc0bbe6",
   "metadata": {},
   "outputs": [
    {
     "name": "stdout",
     "output_type": "stream",
     "text": [
      "['a', 'b', 'c']\n",
      "[1, 2, 3]\n",
      "[('a', 1), ('b', 2), ('c', 3)]\n"
     ]
    }
   ],
   "source": [
    "dicionario = {\"a\": 1, \"b\": 2, \"c\": 3}\n",
    "\n",
    "chaves = list(dicionario.keys())\n",
    "valores = list(dicionario.values())\n",
    "items = list(dicionario.items())\n",
    "\n",
    "print(chaves)\n",
    "print(valores)\n",
    "print(items)"
   ]
  },
  {
   "cell_type": "markdown",
   "id": "8a2f89e1",
   "metadata": {},
   "source": [
    "#### 15. Dada uma string, contar a frequência de cada caractere usando um dicionário.\n"
   ]
  },
  {
   "cell_type": "code",
   "execution_count": 111,
   "id": "17b25feb",
   "metadata": {},
   "outputs": [
    {
     "data": {
      "text/plain": [
       "{'J': 1,\n",
       " 'o': 4,\n",
       " 'ã': 1,\n",
       " ' ': 4,\n",
       " 'V': 1,\n",
       " 'i': 2,\n",
       " 't': 2,\n",
       " 'r': 3,\n",
       " 'B': 1,\n",
       " 'a': 3,\n",
       " 'e': 1,\n",
       " 'd': 1,\n",
       " 'S': 1,\n",
       " 'l': 1,\n",
       " 'v': 1}"
      ]
     },
     "execution_count": 111,
     "metadata": {},
     "output_type": "execute_result"
    }
   ],
   "source": [
    "def conta_caracteres(palavra: str) -> dict:\n",
    "    contagem = {}\n",
    "    for caractere in palavra:\n",
    "        contagem[caractere] = contagem.get(caractere, 0)+1\n",
    "    return contagem\n",
    "\n",
    "palavra = \"João Vitor Barreto da Silva\"\n",
    "conta_caracteres(palavra=palavra)"
   ]
  },
  {
   "cell_type": "markdown",
   "id": "841323b8",
   "metadata": {},
   "source": [
    "### Exercícios de Funções"
   ]
  },
  {
   "cell_type": "markdown",
   "id": "05e4d458",
   "metadata": {},
   "source": [
    "#### 16. Escreva uma função que receba uma lista de números e retorne a soma de todos os números.\n"
   ]
  },
  {
   "cell_type": "code",
   "execution_count": 113,
   "id": "d58196ab",
   "metadata": {},
   "outputs": [],
   "source": [
    "def soma_numeros(numeros: list) -> float:\n",
    "    resultado = sum(numeros)\n",
    "    return resultado"
   ]
  },
  {
   "cell_type": "code",
   "execution_count": 114,
   "id": "ecd4fd48",
   "metadata": {},
   "outputs": [
    {
     "data": {
      "text/plain": [
       "17"
      ]
     },
     "execution_count": 114,
     "metadata": {},
     "output_type": "execute_result"
    }
   ],
   "source": [
    "lista_numeros = [1,6,8,2]\n",
    "\n",
    "soma_numeros(lista_numeros)"
   ]
  },
  {
   "cell_type": "markdown",
   "id": "6ffad35f",
   "metadata": {},
   "source": [
    "#### 17. Crie uma função que receba um número como argumento e retorne True se o número for primo e False caso contrário.\n"
   ]
  },
  {
   "cell_type": "code",
   "execution_count": 115,
   "id": "58cc374d",
   "metadata": {},
   "outputs": [],
   "source": [
    "import math\n",
    "def valida_numero_primo(numero: int) -> bool:\n",
    "    if numero <= 1:\n",
    "        return False\n",
    "    for i in range(2, int(math.sqrt(numero)) + 1):\n",
    "        if numero % i == 0:\n",
    "            return False\n",
    "    return True"
   ]
  },
  {
   "cell_type": "code",
   "execution_count": 119,
   "id": "4e48cd48",
   "metadata": {},
   "outputs": [
    {
     "data": {
      "text/plain": [
       "False"
      ]
     },
     "execution_count": 119,
     "metadata": {},
     "output_type": "execute_result"
    }
   ],
   "source": [
    "valida_numero_primo(20)"
   ]
  },
  {
   "cell_type": "markdown",
   "id": "9c6d4e49",
   "metadata": {},
   "source": [
    "#### 18. Desenvolva uma função que receba uma string como argumento e retorne essa string revertida.\n"
   ]
  },
  {
   "cell_type": "code",
   "execution_count": 120,
   "id": "7c728908",
   "metadata": {},
   "outputs": [],
   "source": [
    "def inverte_string() -> str:\n",
    "    valor_texto = input(\"Digite um valor de texto: \")\n",
    "    valor_texto_invertido = valor_texto[::-1]\n",
    "    return valor_texto_invertido"
   ]
  },
  {
   "cell_type": "code",
   "execution_count": 122,
   "id": "edd44313",
   "metadata": {},
   "outputs": [
    {
     "data": {
      "text/plain": [
       "'oãoJ'"
      ]
     },
     "execution_count": 122,
     "metadata": {},
     "output_type": "execute_result"
    }
   ],
   "source": [
    "inverte_string()"
   ]
  },
  {
   "cell_type": "markdown",
   "id": "b8b0091c",
   "metadata": {},
   "source": [
    "#### 19. Implemente uma função que receba dois argumentos: uma lista de números e um número. A função deve retornar todas as combinações de pares na lista que somem ao número dado.\n"
   ]
  },
  {
   "cell_type": "code",
   "execution_count": 127,
   "id": "d2a5440f",
   "metadata": {},
   "outputs": [
    {
     "name": "stdout",
     "output_type": "stream",
     "text": [
      "[(1, 5), (2, 4)]\n"
     ]
    }
   ],
   "source": [
    "lista = [1, 2, 3, 4, 5]\n",
    "alvo = 6\n",
    "valores_pares = []\n",
    "\n",
    "for i in range(len(lista)):\n",
    "    for j in range(i + 1, len(lista)):\n",
    "        if lista[i] + lista[j] == alvo:\n",
    "            valores_pares.append((lista[i], lista[j]))\n",
    "\n",
    "print(valores_pares)"
   ]
  },
  {
   "cell_type": "code",
   "execution_count": 131,
   "id": "7147ee07",
   "metadata": {},
   "outputs": [
    {
     "name": "stdout",
     "output_type": "stream",
     "text": [
      "range(0, 5)\n",
      "range(5, 5)\n"
     ]
    }
   ],
   "source": [
    "print(range(len(lista)))\n",
    "print(range(i + 1, len(lista)))"
   ]
  },
  {
   "cell_type": "markdown",
   "id": "afa1a905",
   "metadata": {},
   "source": [
    "#### 20. Escreva uma função que receba um dicionário e retorne uma lista de chaves ordenadas."
   ]
  },
  {
   "cell_type": "code",
   "execution_count": 135,
   "id": "123568a8",
   "metadata": {},
   "outputs": [],
   "source": [
    "def ordena_chaves(dicionario):\n",
    "    return sorted(list(dicionario.keys()))"
   ]
  },
  {
   "cell_type": "code",
   "execution_count": 136,
   "id": "ba689eb0",
   "metadata": {},
   "outputs": [
    {
     "data": {
      "text/plain": [
       "['abacaxi', 'banana', 'laranja']"
      ]
     },
     "execution_count": 136,
     "metadata": {},
     "output_type": "execute_result"
    }
   ],
   "source": [
    "estoque_frutas = {\"banana\": 3, \"abacaxi\": 1, \"laranja\": 2}\n",
    "\n",
    "ordena_chaves(estoque_frutas)"
   ]
  }
 ],
 "metadata": {
  "kernelspec": {
   "display_name": "Python 3",
   "language": "python",
   "name": "python3"
  },
  "language_info": {
   "codemirror_mode": {
    "name": "ipython",
    "version": 3
   },
   "file_extension": ".py",
   "mimetype": "text/x-python",
   "name": "python",
   "nbconvert_exporter": "python",
   "pygments_lexer": "ipython3",
   "version": "3.11.9"
  }
 },
 "nbformat": 4,
 "nbformat_minor": 5
}
